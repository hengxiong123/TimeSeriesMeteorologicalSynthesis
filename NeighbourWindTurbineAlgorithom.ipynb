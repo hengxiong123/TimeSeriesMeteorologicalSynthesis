{
 "cells": [
  {
   "cell_type": "code",
   "execution_count": 2,
   "id": "5d9569d6-59d3-43fd-89fd-0b6280f45341",
   "metadata": {},
   "outputs": [
    {
     "name": "stdout",
     "output_type": "stream",
     "text": [
      "[[1 1 1 1 1 1 1 1 1 1]\n",
      " [1 1 1 1 1 1 1 1 1 1]\n",
      " [1 1 1 1 1 1 1 1 1 1]\n",
      " [1 1 1 1 1 1 1 1 1 1]\n",
      " [1 1 1 1 1 1 1 1 1 1]\n",
      " [1 1 1 1 1 1 1 1 1 1]]\n",
      "Grid with neighbor counts:\n",
      "[[ 8 11 14 14 14 14 14 14 11  8]\n",
      " [11 15 19 19 19 19 19 19 15 11]\n",
      " [14 19 24 24 24 24 24 24 19 14]\n",
      " [14 19 24 24 24 24 24 24 19 14]\n",
      " [11 15 19 19 19 19 19 19 15 11]\n",
      " [ 8 11 14 14 14 14 14 14 11  8]]\n"
     ]
    }
   ],
   "source": [
    "# Neighbour Wind Turbine Points\n",
    "import numpy as np\n",
    "\n",
    "# Define the grid size\n",
    "rows, cols = 6, 10  # Adjust according to the grid size in the image\n",
    "\n",
    "# Create a grid with wind turbine positions (1 represents a turbine)\n",
    "grid = np.ones((rows, cols), dtype=int)\n",
    "print(grid)\n",
    "\n",
    "# Define the function to count neighbors\n",
    "def count_neighbors(grid, max_distance=2):\n",
    "    neighbor_counts = np.zeros_like(grid)  # Initialize an array for neighbor counts\n",
    "    for i in range(grid.shape[0]):\n",
    "        for j in range(grid.shape[1]):\n",
    "            if grid[i, j] == 1:  # Only consider cells with a turbine\n",
    "                count = 0\n",
    "                # Iterate through possible neighbors within max_distance\n",
    "                for x in range(max(0, i - max_distance), min(rows, i + max_distance + 1)):\n",
    "                    for y in range(max(0, j - max_distance), min(cols, j + max_distance + 1)):\n",
    "                        if (x != i or y != j) and grid[x, y] == 1:\n",
    "                            # Count as a neighbor if it's within max_distance and not the same cell\n",
    "                            count += 1\n",
    "                neighbor_counts[i, j] = count\n",
    "    return neighbor_counts\n",
    "\n",
    "# Run the function and print the results\n",
    "neighbor_counts = count_neighbors(grid)\n",
    "print(\"Grid with neighbor counts:\")\n",
    "print(neighbor_counts)\n"
   ]
  },
  {
   "cell_type": "code",
   "execution_count": null,
   "id": "d91713c1-ad82-4cfa-9c6d-2e751e387d5a",
   "metadata": {},
   "outputs": [],
   "source": []
  }
 ],
 "metadata": {
  "kernelspec": {
   "display_name": "Python 3 (ipykernel)",
   "language": "python",
   "name": "python3"
  },
  "language_info": {
   "codemirror_mode": {
    "name": "ipython",
    "version": 3
   },
   "file_extension": ".py",
   "mimetype": "text/x-python",
   "name": "python",
   "nbconvert_exporter": "python",
   "pygments_lexer": "ipython3",
   "version": "3.12.4"
  }
 },
 "nbformat": 4,
 "nbformat_minor": 5
}
